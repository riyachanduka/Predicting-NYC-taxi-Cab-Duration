{
 "cells": [
  {
   "cell_type": "code",
   "execution_count": 1,
   "metadata": {},
   "outputs": [
    {
     "data": {
      "text/html": [
       "<div>\n",
       "<style scoped>\n",
       "    .dataframe tbody tr th:only-of-type {\n",
       "        vertical-align: middle;\n",
       "    }\n",
       "\n",
       "    .dataframe tbody tr th {\n",
       "        vertical-align: top;\n",
       "    }\n",
       "\n",
       "    .dataframe thead th {\n",
       "        text-align: right;\n",
       "    }\n",
       "</style>\n",
       "<table border=\"1\" class=\"dataframe\">\n",
       "  <thead>\n",
       "    <tr style=\"text-align: right;\">\n",
       "      <th></th>\n",
       "      <th>id</th>\n",
       "      <th>vendor_id</th>\n",
       "      <th>pickup_datetime</th>\n",
       "      <th>dropoff_datetime</th>\n",
       "      <th>passenger_count</th>\n",
       "      <th>pickup_longitude</th>\n",
       "      <th>pickup_latitude</th>\n",
       "      <th>dropoff_longitude</th>\n",
       "      <th>dropoff_latitude</th>\n",
       "      <th>store_and_fwd_flag</th>\n",
       "      <th>trip_duration</th>\n",
       "    </tr>\n",
       "  </thead>\n",
       "  <tbody>\n",
       "    <tr>\n",
       "      <th>0</th>\n",
       "      <td>id2875421</td>\n",
       "      <td>2</td>\n",
       "      <td>2016-03-14 17:24:55</td>\n",
       "      <td>2016-03-14 17:32:30</td>\n",
       "      <td>1</td>\n",
       "      <td>-73.982155</td>\n",
       "      <td>40.767937</td>\n",
       "      <td>-73.964630</td>\n",
       "      <td>40.765602</td>\n",
       "      <td>N</td>\n",
       "      <td>455</td>\n",
       "    </tr>\n",
       "    <tr>\n",
       "      <th>1</th>\n",
       "      <td>id2377394</td>\n",
       "      <td>1</td>\n",
       "      <td>2016-06-12 00:43:35</td>\n",
       "      <td>2016-06-12 00:54:38</td>\n",
       "      <td>1</td>\n",
       "      <td>-73.980415</td>\n",
       "      <td>40.738564</td>\n",
       "      <td>-73.999481</td>\n",
       "      <td>40.731152</td>\n",
       "      <td>N</td>\n",
       "      <td>663</td>\n",
       "    </tr>\n",
       "    <tr>\n",
       "      <th>2</th>\n",
       "      <td>id3858529</td>\n",
       "      <td>2</td>\n",
       "      <td>2016-01-19 11:35:24</td>\n",
       "      <td>2016-01-19 12:10:48</td>\n",
       "      <td>1</td>\n",
       "      <td>-73.979027</td>\n",
       "      <td>40.763939</td>\n",
       "      <td>-74.005333</td>\n",
       "      <td>40.710087</td>\n",
       "      <td>N</td>\n",
       "      <td>2124</td>\n",
       "    </tr>\n",
       "    <tr>\n",
       "      <th>3</th>\n",
       "      <td>id3504673</td>\n",
       "      <td>2</td>\n",
       "      <td>2016-04-06 19:32:31</td>\n",
       "      <td>2016-04-06 19:39:40</td>\n",
       "      <td>1</td>\n",
       "      <td>-74.010040</td>\n",
       "      <td>40.719971</td>\n",
       "      <td>-74.012268</td>\n",
       "      <td>40.706718</td>\n",
       "      <td>N</td>\n",
       "      <td>429</td>\n",
       "    </tr>\n",
       "    <tr>\n",
       "      <th>4</th>\n",
       "      <td>id2181028</td>\n",
       "      <td>2</td>\n",
       "      <td>2016-03-26 13:30:55</td>\n",
       "      <td>2016-03-26 13:38:10</td>\n",
       "      <td>1</td>\n",
       "      <td>-73.973053</td>\n",
       "      <td>40.793209</td>\n",
       "      <td>-73.972923</td>\n",
       "      <td>40.782520</td>\n",
       "      <td>N</td>\n",
       "      <td>435</td>\n",
       "    </tr>\n",
       "  </tbody>\n",
       "</table>\n",
       "</div>"
      ],
      "text/plain": [
       "          id  vendor_id      pickup_datetime     dropoff_datetime  \\\n",
       "0  id2875421          2  2016-03-14 17:24:55  2016-03-14 17:32:30   \n",
       "1  id2377394          1  2016-06-12 00:43:35  2016-06-12 00:54:38   \n",
       "2  id3858529          2  2016-01-19 11:35:24  2016-01-19 12:10:48   \n",
       "3  id3504673          2  2016-04-06 19:32:31  2016-04-06 19:39:40   \n",
       "4  id2181028          2  2016-03-26 13:30:55  2016-03-26 13:38:10   \n",
       "\n",
       "   passenger_count  pickup_longitude  pickup_latitude  dropoff_longitude  \\\n",
       "0                1        -73.982155        40.767937         -73.964630   \n",
       "1                1        -73.980415        40.738564         -73.999481   \n",
       "2                1        -73.979027        40.763939         -74.005333   \n",
       "3                1        -74.010040        40.719971         -74.012268   \n",
       "4                1        -73.973053        40.793209         -73.972923   \n",
       "\n",
       "   dropoff_latitude store_and_fwd_flag  trip_duration  \n",
       "0         40.765602                  N            455  \n",
       "1         40.731152                  N            663  \n",
       "2         40.710087                  N           2124  \n",
       "3         40.706718                  N            429  \n",
       "4         40.782520                  N            435  "
      ]
     },
     "execution_count": 1,
     "metadata": {},
     "output_type": "execute_result"
    }
   ],
   "source": [
    "import matplotlib.pyplot as plt    #--- for plotting ---\n",
    "import numpy as np                 #--- linear algebra ---\n",
    "import pandas as pd                #--- data processing, CSV file I/O (e.g. pd.read_csv) ---\n",
    "import seaborn as sns              #--- for plotting and visualizations ---\n",
    "\n",
    "# Input data files are available in the \"../input/\" directory.\n",
    "train_df = pd.read_csv('/Users/riyachanduka/Documents/train.csv')\n",
    "test_df = pd.read_csv('/Users/riyachanduka/Desktop/test.csv')\n",
    "\n",
    "#--- Let's peek into the data\n",
    "train_df.head()"
   ]
  },
  {
   "cell_type": "code",
   "execution_count": 2,
   "metadata": {},
   "outputs": [
    {
     "data": {
      "text/html": [
       "<div>\n",
       "<style scoped>\n",
       "    .dataframe tbody tr th:only-of-type {\n",
       "        vertical-align: middle;\n",
       "    }\n",
       "\n",
       "    .dataframe tbody tr th {\n",
       "        vertical-align: top;\n",
       "    }\n",
       "\n",
       "    .dataframe thead th {\n",
       "        text-align: right;\n",
       "    }\n",
       "</style>\n",
       "<table border=\"1\" class=\"dataframe\">\n",
       "  <thead>\n",
       "    <tr style=\"text-align: right;\">\n",
       "      <th></th>\n",
       "      <th>id</th>\n",
       "      <th>vendor_id</th>\n",
       "      <th>pickup_datetime</th>\n",
       "      <th>passenger_count</th>\n",
       "      <th>pickup_longitude</th>\n",
       "      <th>pickup_latitude</th>\n",
       "      <th>dropoff_longitude</th>\n",
       "      <th>dropoff_latitude</th>\n",
       "      <th>store_and_fwd_flag</th>\n",
       "    </tr>\n",
       "  </thead>\n",
       "  <tbody>\n",
       "    <tr>\n",
       "      <th>0</th>\n",
       "      <td>id3004672</td>\n",
       "      <td>1</td>\n",
       "      <td>2016-06-30 23:59:58</td>\n",
       "      <td>1</td>\n",
       "      <td>-73.988129</td>\n",
       "      <td>40.732029</td>\n",
       "      <td>-73.990173</td>\n",
       "      <td>40.756680</td>\n",
       "      <td>N</td>\n",
       "    </tr>\n",
       "    <tr>\n",
       "      <th>1</th>\n",
       "      <td>id3505355</td>\n",
       "      <td>1</td>\n",
       "      <td>2016-06-30 23:59:53</td>\n",
       "      <td>1</td>\n",
       "      <td>-73.964203</td>\n",
       "      <td>40.679993</td>\n",
       "      <td>-73.959808</td>\n",
       "      <td>40.655403</td>\n",
       "      <td>N</td>\n",
       "    </tr>\n",
       "    <tr>\n",
       "      <th>2</th>\n",
       "      <td>id1217141</td>\n",
       "      <td>1</td>\n",
       "      <td>2016-06-30 23:59:47</td>\n",
       "      <td>1</td>\n",
       "      <td>-73.997437</td>\n",
       "      <td>40.737583</td>\n",
       "      <td>-73.986160</td>\n",
       "      <td>40.729523</td>\n",
       "      <td>N</td>\n",
       "    </tr>\n",
       "    <tr>\n",
       "      <th>3</th>\n",
       "      <td>id2150126</td>\n",
       "      <td>2</td>\n",
       "      <td>2016-06-30 23:59:41</td>\n",
       "      <td>1</td>\n",
       "      <td>-73.956070</td>\n",
       "      <td>40.771900</td>\n",
       "      <td>-73.986427</td>\n",
       "      <td>40.730469</td>\n",
       "      <td>N</td>\n",
       "    </tr>\n",
       "    <tr>\n",
       "      <th>4</th>\n",
       "      <td>id1598245</td>\n",
       "      <td>1</td>\n",
       "      <td>2016-06-30 23:59:33</td>\n",
       "      <td>1</td>\n",
       "      <td>-73.970215</td>\n",
       "      <td>40.761475</td>\n",
       "      <td>-73.961510</td>\n",
       "      <td>40.755890</td>\n",
       "      <td>N</td>\n",
       "    </tr>\n",
       "  </tbody>\n",
       "</table>\n",
       "</div>"
      ],
      "text/plain": [
       "          id  vendor_id      pickup_datetime  passenger_count  \\\n",
       "0  id3004672          1  2016-06-30 23:59:58                1   \n",
       "1  id3505355          1  2016-06-30 23:59:53                1   \n",
       "2  id1217141          1  2016-06-30 23:59:47                1   \n",
       "3  id2150126          2  2016-06-30 23:59:41                1   \n",
       "4  id1598245          1  2016-06-30 23:59:33                1   \n",
       "\n",
       "   pickup_longitude  pickup_latitude  dropoff_longitude  dropoff_latitude  \\\n",
       "0        -73.988129        40.732029         -73.990173         40.756680   \n",
       "1        -73.964203        40.679993         -73.959808         40.655403   \n",
       "2        -73.997437        40.737583         -73.986160         40.729523   \n",
       "3        -73.956070        40.771900         -73.986427         40.730469   \n",
       "4        -73.970215        40.761475         -73.961510         40.755890   \n",
       "\n",
       "  store_and_fwd_flag  \n",
       "0                  N  \n",
       "1                  N  \n",
       "2                  N  \n",
       "3                  N  \n",
       "4                  N  "
      ]
     },
     "execution_count": 2,
     "metadata": {},
     "output_type": "execute_result"
    }
   ],
   "source": [
    "test_df.head()"
   ]
  },
  {
   "cell_type": "markdown",
   "metadata": {},
   "source": [
    "# Adding Haversine Distance"
   ]
  },
  {
   "cell_type": "code",
   "execution_count": 3,
   "metadata": {},
   "outputs": [],
   "source": [
    "from math import radians, cos, sin, asin, sqrt   #--- for the mathematical operations involved in the function ---\n",
    "\n",
    "def haversine(lon1, lat1, lon2, lat2):\n",
    "    \"\"\"\n",
    "    Calculate the distance between two points \n",
    "    on the earth (specified in decimal degrees)\n",
    "    \"\"\"\n",
    "    # convert decimal degrees to radians \n",
    "    lon1, lat1, lon2, lat2 = map(radians, [lon1, lat1, lon2, lat2])\n",
    "    # haversine formula \n",
    "    dlon = lon2 - lon1 \n",
    "    dlat = lat2 - lat1 \n",
    "    a = sin(dlat/2)**2 + cos(lat1) * cos(lat2) * sin(dlon/2)**2\n",
    "    c = 2 * asin(sqrt(a)) \n",
    "    km = 6367 * c\n",
    "    return km\n",
    "\n",
    "train_df['Haversine_dist'] = train_df.apply(lambda x: haversine(x['pickup_longitude'], x['pickup_latitude'], x['dropoff_longitude'], x['dropoff_latitude']), axis=1)\n",
    "test_df['Haversine_dist'] = test_df.apply(lambda x: haversine(x['pickup_longitude'], x['pickup_latitude'], x['dropoff_longitude'], x['dropoff_latitude']), axis=1)\n",
    "#train_df['Haversine_dist'] = haversine(train_df['pickup_longitude'], train_df['pickup_latitude'],train_df['dropoff_longitude'], train_df['dropoff_latitude'])\n",
    "#print (train_df.head())"
   ]
  },
  {
   "cell_type": "code",
   "execution_count": 4,
   "metadata": {},
   "outputs": [],
   "source": [
    "def arrays_bearing(lats1, lngs1, lats2, lngs2, R=6371):\n",
    "    lats1_rads = np.radians(lats1)\n",
    "    lats2_rads = np.radians(lats2)\n",
    "    lngs1_rads = np.radians(lngs1)\n",
    "    lngs2_rads = np.radians(lngs2)\n",
    "    lngs_delta_rads = np.radians(lngs2 - lngs1)\n",
    "    \n",
    "    y = np.sin(lngs_delta_rads) * np.cos(lats2_rads)\n",
    "    x = np.cos(lats1_rads) * np.sin(lats2_rads) - np.sin(lats1_rads) * np.cos(lats2_rads) * np.cos(lngs_delta_rads)\n",
    "    \n",
    "    return np.degrees(np.arctan2(y, x))\n",
    "\n",
    "train_df['bearing_dist'] = arrays_bearing(\n",
    "train_df['pickup_latitude'], train_df['pickup_longitude'], \n",
    "train_df['dropoff_latitude'], train_df['dropoff_longitude'])\n",
    "\n",
    "test_df['bearing_dist'] = arrays_bearing(\n",
    "test_df['pickup_latitude'], test_df['pickup_longitude'], \n",
    "test_df['dropoff_latitude'], test_df['dropoff_longitude'])"
   ]
  },
  {
   "cell_type": "code",
   "execution_count": 5,
   "metadata": {},
   "outputs": [],
   "source": [
    "train_df['Manhattan_dist'] = \\\n",
    "    (train_df['dropoff_longitude'] - train_df['pickup_longitude']).abs() + \\\n",
    "    (train_df['dropoff_latitude'] - train_df['pickup_latitude']).abs()\n",
    "    \n",
    "test_df['Manhattan_dist'] = \\\n",
    "    (test_df['dropoff_longitude'] - test_df['pickup_longitude']).abs() + \\\n",
    "    (test_df['dropoff_latitude'] - test_df['pickup_latitude']).abs()    \n",
    "    \n",
    "#print(train_df.head())  \n",
    "#print(test_df.head())  "
   ]
  },
  {
   "cell_type": "code",
   "execution_count": 6,
   "metadata": {},
   "outputs": [],
   "source": [
    "#--- Taken from Part 2 ---\n",
    "train_df['pickup_datetime'] = pd.to_datetime(train_df['pickup_datetime'])\n",
    "train_df['dropoff_datetime'] = pd.to_datetime(train_df['dropoff_datetime'])\n",
    "\n",
    "train_df['pickup_month'] = train_df.pickup_datetime.dt.month.astype(np.uint8)\n",
    "train_df['pickup_day'] = train_df.pickup_datetime.dt.weekday.astype(np.uint8)\n",
    "train_df['pickup_hour'] = train_df.pickup_datetime.dt.hour.astype(np.uint8)\n",
    "\n",
    "train_df['dropoff_month'] = train_df.dropoff_datetime.dt.month.astype(np.uint8)\n",
    "train_df['dropoff_day'] = train_df.dropoff_datetime.dt.weekday.astype(np.uint8)\n",
    "train_df['dropoff_hour'] = train_df.dropoff_datetime.dt.hour.astype(np.uint8)\n",
    "#print (train_df.head())\n",
    "\n",
    "#--- Doing the same for the test data excluding dropoff time ---\n",
    "test_df['pickup_datetime'] = pd.to_datetime(test_df['pickup_datetime'])\n",
    "\n",
    "test_df['pickup_month'] = test_df.pickup_datetime.dt.month.astype(np.uint8)\n",
    "test_df['pickup_day'] = test_df.pickup_datetime.dt.weekday.astype(np.uint8)\n",
    "test_df['pickup_hour'] = test_df.pickup_datetime.dt.hour.astype(np.uint8)\n",
    "\n",
    "#print (test_df.head())"
   ]
  },
  {
   "cell_type": "code",
   "execution_count": 7,
   "metadata": {},
   "outputs": [],
   "source": [
    "train_df['trip_duration_mins'] = train_df['trip_duration'] / 60\n",
    "train_df['trip_duration_hours'] = train_df['trip_duration_mins'] / 60\n",
    "#print (train_df.head())"
   ]
  },
  {
   "cell_type": "markdown",
   "metadata": {},
   "source": [
    "# Removing Outliers"
   ]
  },
  {
   "cell_type": "code",
   "execution_count": 8,
   "metadata": {},
   "outputs": [
    {
     "name": "stdout",
     "output_type": "stream",
     "text": [
      "979.5227777777778\n",
      "0.0002777777777777778\n",
      "count    1.458644e+06\n",
      "mean     2.665256e-01\n",
      "std      1.454842e+00\n",
      "min      2.777778e-04\n",
      "25%      1.102778e-01\n",
      "50%      1.838889e-01\n",
      "75%      2.986111e-01\n",
      "max      9.795228e+02\n",
      "Name: trip_duration_hours, dtype: float64\n"
     ]
    }
   ],
   "source": [
    "print(max(train_df['trip_duration_hours']))\n",
    "print(min(train_df['trip_duration_hours']))\n",
    "print(train_df['trip_duration_hours'].describe())"
   ]
  },
  {
   "cell_type": "code",
   "execution_count": 9,
   "metadata": {},
   "outputs": [
    {
     "name": "stdout",
     "output_type": "stream",
     "text": [
      "2072\n",
      "1458644\n"
     ]
    }
   ],
   "source": [
    "print (train_df[train_df['trip_duration_hours'] > 5].count()['id'])\n",
    "print (len(train_df))"
   ]
  },
  {
   "cell_type": "code",
   "execution_count": 10,
   "metadata": {},
   "outputs": [
    {
     "name": "stdout",
     "output_type": "stream",
     "text": [
      "1456572\n"
     ]
    }
   ],
   "source": [
    "train_df.drop(train_df[train_df.trip_duration_hours > 5].index, inplace=True)\n",
    "print (len(train_df))"
   ]
  },
  {
   "cell_type": "code",
   "execution_count": 11,
   "metadata": {},
   "outputs": [
    {
     "name": "stdout",
     "output_type": "stream",
     "text": [
      "4.823055555555555\n",
      "0.0002777777777777778\n",
      "count    1.456572e+06\n",
      "mean     2.325360e-01\n",
      "std      1.837520e-01\n",
      "min      2.777778e-04\n",
      "25%      1.102778e-01\n",
      "50%      1.838889e-01\n",
      "75%      2.980556e-01\n",
      "max      4.823056e+00\n",
      "Name: trip_duration_hours, dtype: float64\n"
     ]
    }
   ],
   "source": [
    "print(max(train_df['trip_duration_hours']))\n",
    "print(min(train_df['trip_duration_hours']))\n",
    "\n",
    "print(train_df['trip_duration_hours'].describe())"
   ]
  },
  {
   "cell_type": "code",
   "execution_count": 12,
   "metadata": {},
   "outputs": [
    {
     "name": "stdout",
     "output_type": "stream",
     "text": [
      "[1 6 4 2 3 5 0 7 9 8]\n",
      "[1 2 4 5 3 6 0 9]\n",
      "23\n"
     ]
    }
   ],
   "source": [
    "print(train_df['passenger_count'].unique())\n",
    "print(test_df['passenger_count'].unique())\n",
    "print(test_df[(test_df['passenger_count'] == 0)].count()['id'])"
   ]
  },
  {
   "cell_type": "code",
   "execution_count": 13,
   "metadata": {},
   "outputs": [
    {
     "data": {
      "image/png": "[encoded data removed]",
      "text/plain": [
       "<matplotlib.figure.Figure at 0x1274c5b00>"
      ]
     },
     "metadata": {},
     "output_type": "display_data"
    },
    {
     "data": {
      "image/png": "[encoded data removed]",
      "text/plain": [
       "<matplotlib.figure.Figure at 0x12168cba8>"
      ]
     },
     "metadata": {},
     "output_type": "display_data"
    }
   ],
   "source": [
    "plt.plot(train_df['pickup_longitude'], train_df['pickup_latitude'], '.', color='k', alpha=0.8)\n",
    "plt.title('Pickup Location Lat and Long', weight = 'bold')\n",
    "plt.show()\n",
    "\n",
    "plt.plot(train_df['dropoff_longitude'], train_df['dropoff_latitude'], '.', color='k', alpha=0.8)\n",
    "plt.title('Dropoff Location Lat and Long', weight = 'bold')\n",
    "plt.show()"
   ]
  },
  {
   "cell_type": "code",
   "execution_count": 14,
   "metadata": {},
   "outputs": [
    {
     "data": {
      "image/png": "[encoded data removed]",
      "text/plain": [
       "<matplotlib.figure.Figure at 0x11de15fd0>"
      ]
     },
     "metadata": {},
     "output_type": "display_data"
    },
    {
     "data": {
      "image/png": "[encoded data removed]",
      "text/plain": [
       "<matplotlib.figure.Figure at 0x11ba71b70>"
      ]
     },
     "metadata": {},
     "output_type": "display_data"
    }
   ],
   "source": [
    "train_df = train_df[train_df.pickup_latitude != 51.881084442138672]\n",
    "\n",
    "train_df = train_df[train_df.pickup_longitude != -121.93334197998048]\n",
    "\n",
    "train_df = train_df[train_df.dropoff_longitude != -121.93320465087892]\n",
    "\n",
    "#train_df = train_df[train_df.dropoff_latitude != 32.181140899658203]\n",
    "\n",
    "plt.plot(train_df['pickup_longitude'], train_df['pickup_latitude'], '.', color='k', alpha=0.8)\n",
    "plt.title('Pickup Location Lat and Long', weight = 'bold')\n",
    "plt.show()\n",
    "\n",
    "plt.plot(train_df['dropoff_longitude'], train_df['dropoff_latitude'], '.', color='k', alpha=0.8)\n",
    "plt.title('Dropoff Location Lat and Long', weight = 'bold')\n",
    "plt.show()"
   ]
  },
  {
   "cell_type": "code",
   "execution_count": 15,
   "metadata": {},
   "outputs": [
    {
     "name": "stdout",
     "output_type": "stream",
     "text": [
      "40.75092291424869\n",
      "-73.9734244979376\n"
     ]
    }
   ],
   "source": [
    "mean_p_lat = np.mean(train_df['pickup_latitude'])\n",
    "mean_p_lon = np.mean(train_df['pickup_longitude'])\n",
    "\n",
    "print (mean_p_lat)\n",
    "print (mean_p_lon)"
   ]
  },
  {
   "cell_type": "code",
   "execution_count": 16,
   "metadata": {},
   "outputs": [
    {
     "name": "stdout",
     "output_type": "stream",
     "text": [
      "0.031306360535317025\n",
      "0.0432490258539654\n"
     ]
    }
   ],
   "source": [
    "#--- Standard deviation of pickup & dropoff Lats and Longs ---\n",
    "std_p_lat = np.std(train_df['pickup_latitude'])\n",
    "std_p_lon = np.std(train_df['pickup_longitude'])\n",
    "\n",
    "print (std_p_lat)\n",
    "print (std_p_lon)"
   ]
  },
  {
   "cell_type": "code",
   "execution_count": 17,
   "metadata": {},
   "outputs": [
    {
     "data": {
      "image/png": "[encoded data removed]",
      "text/plain": [
       "<matplotlib.figure.Figure at 0x11b085908>"
      ]
     },
     "metadata": {},
     "output_type": "display_data"
    }
   ],
   "source": [
    "min_p_lat = mean_p_lat - std_p_lat\n",
    "max_p_lat = mean_p_lat + std_p_lat\n",
    "min_p_lon = mean_p_lon - std_p_lon\n",
    "max_p_lon = mean_p_lon + std_p_lon\n",
    "\n",
    "locations = train_df[(train_df.pickup_latitude > min_p_lat) & (train_df.pickup_latitude < max_p_lat) & (train_df.pickup_longitude > min_p_lon) & (train_df.pickup_longitude < max_p_lon)]\n",
    "\n",
    "plt.plot(locations['pickup_longitude'], locations['pickup_latitude'], '.', color='k', alpha=0.8)\n",
    "plt.title('Reduced Pickup Lat and Long', weight = 'bold')\n",
    "plt.show()"
   ]
  },
  {
   "cell_type": "code",
   "execution_count": 18,
   "metadata": {},
   "outputs": [
    {
     "data": {
      "text/plain": [
       "\"\\nlocations = train_df[(train_df.pickup_latitude > min_p_lat) & (train_df.pickup_latitude < max_p_lat) & (train_df.pickup_longitude > min_p_lon) & (train_df.pickup_longitude < max_p_lon)]\\n\\nplt.plot(locations['pickup_longitude'], locations['pickup_latitude'], '.', color='k', alpha=0.8)\\nplt.title('Reduced Pickup Lat and Long', weight = 'bold')\\nplt.show()\\n\""
      ]
     },
     "execution_count": 18,
     "metadata": {},
     "output_type": "execute_result"
    }
   ],
   "source": [
    "min_p_lat = mean_p_lat - (3 * std_p_lat)\n",
    "max_p_lat = mean_p_lat + (3 * std_p_lat)\n",
    "min_p_lon = mean_p_lon - (3 * std_p_lon)\n",
    "max_p_lon = mean_p_lon + (3 * std_p_lon)\n",
    "'''\n",
    "locations = train_df[(train_df.pickup_latitude > min_p_lat) & (train_df.pickup_latitude < max_p_lat) & (train_df.pickup_longitude > min_p_lon) & (train_df.pickup_longitude < max_p_lon)]\n",
    "\n",
    "plt.plot(locations['pickup_longitude'], locations['pickup_latitude'], '.', color='k', alpha=0.8)\n",
    "plt.title('Reduced Pickup Lat and Long', weight = 'bold')\n",
    "plt.show()\n",
    "'''"
   ]
  },
  {
   "cell_type": "code",
   "execution_count": 19,
   "metadata": {},
   "outputs": [
    {
     "data": {
      "text/plain": [
       "\"\\nlocations = train_df[(train_df.pickup_latitude > min_p_lat) & (train_df.pickup_latitude < max_p_lat) & (train_df.pickup_longitude > min_p_lon) & (train_df.pickup_longitude < max_p_lon)]\\n\\nplt.plot(locations['pickup_longitude'], locations['pickup_latitude'], '.', color='k', alpha=0.8)\\nplt.title('Reduced Pickup Lat and Long', weight = 'bold')\\nplt.show()\\n\""
      ]
     },
     "execution_count": 19,
     "metadata": {},
     "output_type": "execute_result"
    }
   ],
   "source": [
    "min_p_lat = mean_p_lat - (4 * std_p_lat)\n",
    "max_p_lat = mean_p_lat + (4 * std_p_lat)\n",
    "min_p_lon = mean_p_lon - (4 * std_p_lon)\n",
    "max_p_lon = mean_p_lon + (4 * std_p_lon)\n",
    "'''\n",
    "locations = train_df[(train_df.pickup_latitude > min_p_lat) & (train_df.pickup_latitude < max_p_lat) & (train_df.pickup_longitude > min_p_lon) & (train_df.pickup_longitude < max_p_lon)]\n",
    "\n",
    "plt.plot(locations['pickup_longitude'], locations['pickup_latitude'], '.', color='k', alpha=0.8)\n",
    "plt.title('Reduced Pickup Lat and Long', weight = 'bold')\n",
    "plt.show()\n",
    "'''"
   ]
  },
  {
   "cell_type": "code",
   "execution_count": 20,
   "metadata": {},
   "outputs": [
    {
     "data": {
      "text/plain": [
       "\"\\nlocations = train_df[(train_df.pickup_latitude > min_p_lat) & (train_df.pickup_latitude < max_p_lat) & (train_df.pickup_longitude > min_p_lon) & (train_df.pickup_longitude < max_p_lon)]\\n\\nplt.plot(locations['pickup_longitude'], locations['pickup_latitude'], '.', color='k', alpha=0.8)\\nplt.title('Reduced Pickup Lat and Long', weight = 'bold')\\nplt.show()\\n\""
      ]
     },
     "execution_count": 20,
     "metadata": {},
     "output_type": "execute_result"
    }
   ],
   "source": [
    "min_p_lat = mean_p_lat - (10 * std_p_lat)\n",
    "max_p_lat = mean_p_lat + (10 * std_p_lat)\n",
    "min_p_lon = mean_p_lon - (10 * std_p_lon)\n",
    "max_p_lon = mean_p_lon + (10 * std_p_lon)\n",
    "'''\n",
    "locations = train_df[(train_df.pickup_latitude > min_p_lat) & (train_df.pickup_latitude < max_p_lat) & (train_df.pickup_longitude > min_p_lon) & (train_df.pickup_longitude < max_p_lon)]\n",
    "\n",
    "plt.plot(locations['pickup_longitude'], locations['pickup_latitude'], '.', color='k', alpha=0.8)\n",
    "plt.title('Reduced Pickup Lat and Long', weight = 'bold')\n",
    "plt.show()\n",
    "'''"
   ]
  },
  {
   "cell_type": "code",
   "execution_count": 21,
   "metadata": {},
   "outputs": [
    {
     "data": {
      "image/png": "[encoded data removed]",
      "text/plain": [
       "<matplotlib.figure.Figure at 0x11b085cc0>"
      ]
     },
     "metadata": {},
     "output_type": "display_data"
    }
   ],
   "source": [
    "min_p_lat = mean_p_lat - (5 * std_p_lat)\n",
    "max_p_lat = mean_p_lat + (5 * std_p_lat)\n",
    "min_p_lon = mean_p_lon - (5 * std_p_lon)\n",
    "max_p_lon = mean_p_lon + (5 * std_p_lon)\n",
    "\n",
    "locations = train_df[(train_df.pickup_latitude > min_p_lat) & (train_df.pickup_latitude < max_p_lat) & (train_df.pickup_longitude > min_p_lon) & (train_df.pickup_longitude < max_p_lon)]\n",
    "\n",
    "plt.plot(locations['pickup_longitude'], locations['pickup_latitude'], '.', color='k', alpha=0.8)\n",
    "plt.title('Reduced Pickup Lat and Long', weight = 'bold')\n",
    "plt.show()"
   ]
  },
  {
   "cell_type": "code",
   "execution_count": 22,
   "metadata": {},
   "outputs": [
    {
     "name": "stdout",
     "output_type": "stream",
     "text": [
      "1456569\n",
      "1456057\n",
      "          id  vendor_id     pickup_datetime    dropoff_datetime  \\\n",
      "0  id2875421          2 2016-03-14 17:24:55 2016-03-14 17:32:30   \n",
      "1  id2377394          1 2016-06-12 00:43:35 2016-06-12 00:54:38   \n",
      "2  id3858529          2 2016-01-19 11:35:24 2016-01-19 12:10:48   \n",
      "3  id3504673          2 2016-04-06 19:32:31 2016-04-06 19:39:40   \n",
      "4  id2181028          2 2016-03-26 13:30:55 2016-03-26 13:38:10   \n",
      "\n",
      "   passenger_count  pickup_longitude  pickup_latitude  dropoff_longitude  \\\n",
      "0                1        -73.982155        40.767937         -73.964630   \n",
      "1                1        -73.980415        40.738564         -73.999481   \n",
      "2                1        -73.979027        40.763939         -74.005333   \n",
      "3                1        -74.010040        40.719971         -74.012268   \n",
      "4                1        -73.973053        40.793209         -73.972923   \n",
      "\n",
      "   dropoff_latitude store_and_fwd_flag         ...           bearing_dist  \\\n",
      "0         40.765602                  N         ...              99.970196   \n",
      "1         40.731152                  N         ...            -117.153768   \n",
      "2         40.710087                  N         ...            -159.680165   \n",
      "3         40.706718                  N         ...            -172.737700   \n",
      "4         40.782520                  N         ...             179.473585   \n",
      "\n",
      "   Manhattan_dist  pickup_month  pickup_day  pickup_hour  dropoff_month  \\\n",
      "0        0.019859             3           0           17              3   \n",
      "1        0.026478             6           6            0              6   \n",
      "2        0.080158             1           1           11              1   \n",
      "3        0.015480             4           2           19              4   \n",
      "4        0.010818             3           5           13              3   \n",
      "\n",
      "   dropoff_day  dropoff_hour  trip_duration_mins  trip_duration_hours  \n",
      "0            0            17            7.583333             0.126389  \n",
      "1            6             0           11.050000             0.184167  \n",
      "2            1            12           35.400000             0.590000  \n",
      "3            2            19            7.150000             0.119167  \n",
      "4            5            13            7.250000             0.120833  \n",
      "\n",
      "[5 rows x 22 columns]\n"
     ]
    }
   ],
   "source": [
    "print(len(train_df))\n",
    "print(len(locations))\n",
    "\n",
    "#--- making a duplicate copy of the df to work on ---\n",
    "locations_1 = locations\n",
    "print(locations_1.head())"
   ]
  },
  {
   "cell_type": "code",
   "execution_count": 23,
   "metadata": {},
   "outputs": [],
   "source": [
    "labels = train_df['trip_duration']"
   ]
  },
  {
   "cell_type": "code",
   "execution_count": 24,
   "metadata": {},
   "outputs": [],
   "source": [
    "# --- Converting the categorical variables to numerical variables ---\n",
    "df_s_f_train = pd.get_dummies(train_df['store_and_fwd_flag'])\n",
    "df_s_f_test = pd.get_dummies(test_df['store_and_fwd_flag'])\n",
    "\n",
    "# --- Join the dummy variables to the main dataframe ---\n",
    "train_df = pd.concat([train_df, df_s_f_train], axis=1)\n",
    "test_df = pd.concat([test_df, df_s_f_test], axis=1)\n",
    "\n",
    "# --- Drop the categorical column ---\n",
    "train_df.drop('store_and_fwd_flag', axis=1, inplace=True)\n",
    "test_df.drop('store_and_fwd_flag', axis=1, inplace=True)"
   ]
  },
  {
   "cell_type": "code",
   "execution_count": 25,
   "metadata": {},
   "outputs": [],
   "source": [
    "train_df = train_df.loc[:,~train_df.columns.duplicated()]\n",
    "test_df = test_df.loc[:,~test_df.columns.duplicated()]"
   ]
  },
  {
   "cell_type": "code",
   "execution_count": 26,
   "metadata": {},
   "outputs": [
    {
     "data": {
      "text/plain": [
       "Index(['id', 'vendor_id', 'pickup_datetime', 'dropoff_datetime',\n",
       "       'passenger_count', 'pickup_longitude', 'pickup_latitude',\n",
       "       'dropoff_longitude', 'dropoff_latitude', 'trip_duration',\n",
       "       'Haversine_dist', 'bearing_dist', 'Manhattan_dist', 'pickup_month',\n",
       "       'pickup_day', 'pickup_hour', 'dropoff_month', 'dropoff_day',\n",
       "       'dropoff_hour', 'trip_duration_mins', 'trip_duration_hours', 'N', 'Y'],\n",
       "      dtype='object')"
      ]
     },
     "execution_count": 26,
     "metadata": {},
     "output_type": "execute_result"
    }
   ],
   "source": [
    "train_df.columns"
   ]
  },
  {
   "cell_type": "code",
   "execution_count": 27,
   "metadata": {},
   "outputs": [],
   "source": [
    "train_df.drop('id', axis=1, inplace=True)"
   ]
  },
  {
   "cell_type": "code",
   "execution_count": 28,
   "metadata": {},
   "outputs": [
    {
     "name": "stdout",
     "output_type": "stream",
     "text": [
      "   vendor_id  passenger_count  pickup_longitude  pickup_latitude  \\\n",
      "0          2                1        -73.982155        40.767937   \n",
      "1          1                1        -73.980415        40.738564   \n",
      "2          2                1        -73.979027        40.763939   \n",
      "3          2                1        -74.010040        40.719971   \n",
      "4          2                1        -73.973053        40.793209   \n",
      "\n",
      "   dropoff_longitude  dropoff_latitude  Haversine_dist  bearing_dist  \\\n",
      "0         -73.964630         40.765602        1.497580     99.970196   \n",
      "1         -73.999481         40.731152        1.804374   -117.153768   \n",
      "2         -74.005333         40.710087        6.381090   -159.680165   \n",
      "3         -74.012268         40.706718        1.484566   -172.737700   \n",
      "4         -73.972923         40.782520        1.187842    179.473585   \n",
      "\n",
      "   Manhattan_dist  pickup_month  pickup_day  pickup_hour  N  Y  \n",
      "0        0.019859             3           0           17  1  0  \n",
      "1        0.026478             6           6            0  1  0  \n",
      "2        0.080158             1           1           11  1  0  \n",
      "3        0.015480             4           2           19  1  0  \n",
      "4        0.010818             3           5           13  1  0  \n",
      "0     455\n",
      "1     663\n",
      "2    2124\n",
      "3     429\n",
      "4     435\n",
      "Name: trip_duration, dtype: int64\n",
      "   vendor_id  passenger_count  pickup_longitude  pickup_latitude  \\\n",
      "0          1                1        -73.988129        40.732029   \n",
      "1          1                1        -73.964203        40.679993   \n",
      "2          1                1        -73.997437        40.737583   \n",
      "3          2                1        -73.956070        40.771900   \n",
      "4          1                1        -73.970215        40.761475   \n",
      "\n",
      "   dropoff_longitude  dropoff_latitude  Haversine_dist  bearing_dist  \\\n",
      "0         -73.990173         40.756680        2.744701     -3.595224   \n",
      "1         -73.959808         40.655403        2.757507    172.278835   \n",
      "2         -73.986160         40.729523        1.305335    133.326248   \n",
      "3         -73.986427         40.730469        5.265780   -150.956833   \n",
      "4         -73.961510         40.755890        0.960239    130.260381   \n",
      "\n",
      "   Manhattan_dist  pickup_month  pickup_day  pickup_hour  N  Y  \n",
      "0        0.026695             6           3           23  1  0  \n",
      "1        0.028984             6           3           23  1  0  \n",
      "2        0.019337             6           3           23  1  0  \n",
      "3        0.071789             6           3           23  1  0  \n",
      "4        0.014290             6           3           23  1  0  \n"
     ]
    }
   ],
   "source": [
    "b_train = train_df.drop(['pickup_datetime','dropoff_datetime','dropoff_hour', 'dropoff_month', 'dropoff_day', 'trip_duration', 'trip_duration_mins', 'trip_duration_hours'], 1)\n",
    "b_label = train_df['trip_duration']\n",
    "print(b_train.head())\n",
    "print(b_label.head())\n",
    "\n",
    "test = test_df\n",
    "test = test.drop(['pickup_datetime','id'], 1)\n",
    "print(test.head())"
   ]
  },
  {
   "cell_type": "code",
   "execution_count": 29,
   "metadata": {},
   "outputs": [
    {
     "data": {
      "text/html": [
       "<div>\n",
       "<style scoped>\n",
       "    .dataframe tbody tr th:only-of-type {\n",
       "        vertical-align: middle;\n",
       "    }\n",
       "\n",
       "    .dataframe tbody tr th {\n",
       "        vertical-align: top;\n",
       "    }\n",
       "\n",
       "    .dataframe thead th {\n",
       "        text-align: right;\n",
       "    }\n",
       "</style>\n",
       "<table border=\"1\" class=\"dataframe\">\n",
       "  <thead>\n",
       "    <tr style=\"text-align: right;\">\n",
       "      <th></th>\n",
       "      <th>vendor_id</th>\n",
       "      <th>passenger_count</th>\n",
       "      <th>pickup_longitude</th>\n",
       "      <th>pickup_latitude</th>\n",
       "      <th>dropoff_longitude</th>\n",
       "      <th>dropoff_latitude</th>\n",
       "      <th>Haversine_dist</th>\n",
       "      <th>bearing_dist</th>\n",
       "      <th>Manhattan_dist</th>\n",
       "      <th>pickup_month</th>\n",
       "      <th>pickup_day</th>\n",
       "      <th>pickup_hour</th>\n",
       "      <th>N</th>\n",
       "      <th>Y</th>\n",
       "    </tr>\n",
       "  </thead>\n",
       "  <tbody>\n",
       "    <tr>\n",
       "      <th>0</th>\n",
       "      <td>2</td>\n",
       "      <td>1</td>\n",
       "      <td>-73.982155</td>\n",
       "      <td>40.767937</td>\n",
       "      <td>-73.964630</td>\n",
       "      <td>40.765602</td>\n",
       "      <td>1.497580</td>\n",
       "      <td>99.970196</td>\n",
       "      <td>0.019859</td>\n",
       "      <td>3</td>\n",
       "      <td>0</td>\n",
       "      <td>17</td>\n",
       "      <td>1</td>\n",
       "      <td>0</td>\n",
       "    </tr>\n",
       "    <tr>\n",
       "      <th>1</th>\n",
       "      <td>1</td>\n",
       "      <td>1</td>\n",
       "      <td>-73.980415</td>\n",
       "      <td>40.738564</td>\n",
       "      <td>-73.999481</td>\n",
       "      <td>40.731152</td>\n",
       "      <td>1.804374</td>\n",
       "      <td>-117.153768</td>\n",
       "      <td>0.026478</td>\n",
       "      <td>6</td>\n",
       "      <td>6</td>\n",
       "      <td>0</td>\n",
       "      <td>1</td>\n",
       "      <td>0</td>\n",
       "    </tr>\n",
       "    <tr>\n",
       "      <th>2</th>\n",
       "      <td>2</td>\n",
       "      <td>1</td>\n",
       "      <td>-73.979027</td>\n",
       "      <td>40.763939</td>\n",
       "      <td>-74.005333</td>\n",
       "      <td>40.710087</td>\n",
       "      <td>6.381090</td>\n",
       "      <td>-159.680165</td>\n",
       "      <td>0.080158</td>\n",
       "      <td>1</td>\n",
       "      <td>1</td>\n",
       "      <td>11</td>\n",
       "      <td>1</td>\n",
       "      <td>0</td>\n",
       "    </tr>\n",
       "    <tr>\n",
       "      <th>3</th>\n",
       "      <td>2</td>\n",
       "      <td>1</td>\n",
       "      <td>-74.010040</td>\n",
       "      <td>40.719971</td>\n",
       "      <td>-74.012268</td>\n",
       "      <td>40.706718</td>\n",
       "      <td>1.484566</td>\n",
       "      <td>-172.737700</td>\n",
       "      <td>0.015480</td>\n",
       "      <td>4</td>\n",
       "      <td>2</td>\n",
       "      <td>19</td>\n",
       "      <td>1</td>\n",
       "      <td>0</td>\n",
       "    </tr>\n",
       "    <tr>\n",
       "      <th>4</th>\n",
       "      <td>2</td>\n",
       "      <td>1</td>\n",
       "      <td>-73.973053</td>\n",
       "      <td>40.793209</td>\n",
       "      <td>-73.972923</td>\n",
       "      <td>40.782520</td>\n",
       "      <td>1.187842</td>\n",
       "      <td>179.473585</td>\n",
       "      <td>0.010818</td>\n",
       "      <td>3</td>\n",
       "      <td>5</td>\n",
       "      <td>13</td>\n",
       "      <td>1</td>\n",
       "      <td>0</td>\n",
       "    </tr>\n",
       "  </tbody>\n",
       "</table>\n",
       "</div>"
      ],
      "text/plain": [
       "   vendor_id  passenger_count  pickup_longitude  pickup_latitude  \\\n",
       "0          2                1        -73.982155        40.767937   \n",
       "1          1                1        -73.980415        40.738564   \n",
       "2          2                1        -73.979027        40.763939   \n",
       "3          2                1        -74.010040        40.719971   \n",
       "4          2                1        -73.973053        40.793209   \n",
       "\n",
       "   dropoff_longitude  dropoff_latitude  Haversine_dist  bearing_dist  \\\n",
       "0         -73.964630         40.765602        1.497580     99.970196   \n",
       "1         -73.999481         40.731152        1.804374   -117.153768   \n",
       "2         -74.005333         40.710087        6.381090   -159.680165   \n",
       "3         -74.012268         40.706718        1.484566   -172.737700   \n",
       "4         -73.972923         40.782520        1.187842    179.473585   \n",
       "\n",
       "   Manhattan_dist  pickup_month  pickup_day  pickup_hour  N  Y  \n",
       "0        0.019859             3           0           17  1  0  \n",
       "1        0.026478             6           6            0  1  0  \n",
       "2        0.080158             1           1           11  1  0  \n",
       "3        0.015480             4           2           19  1  0  \n",
       "4        0.010818             3           5           13  1  0  "
      ]
     },
     "execution_count": 29,
     "metadata": {},
     "output_type": "execute_result"
    }
   ],
   "source": [
    "b_train.head()"
   ]
  },
  {
   "cell_type": "code",
   "execution_count": 33,
   "metadata": {},
   "outputs": [
    {
     "name": "stdout",
     "output_type": "stream",
     "text": [
      "GradientBoostingRegressor(alpha=0.9, criterion='friedman_mse', init=None,\n",
      "             learning_rate=0.01, loss='ls', max_depth=5, max_features=None,\n",
      "             max_leaf_nodes=None, min_impurity_decrease=0.0,\n",
      "             min_impurity_split=None, min_samples_leaf=1,\n",
      "             min_samples_split=2, min_weight_fraction_leaf=0.0,\n",
      "             n_estimators=50, presort='auto', random_state=0,\n",
      "             subsample=1.0, verbose=0, warm_start=False)\n"
     ]
    }
   ],
   "source": [
    "#---Setting up and training Gradient Boosting Regressor---#\n",
    "\n",
    "from sklearn.ensemble import GradientBoostingRegressor\n",
    "\n",
    "GBR = GradientBoostingRegressor(n_estimators=50, learning_rate=0.01, max_depth=5, random_state=0, loss='ls')\n",
    "GBR.fit(b_train, b_label)\n",
    "\n",
    "print (GBR)"
   ]
  },
  {
   "cell_type": "markdown",
   "metadata": {},
   "source": [
    "# Before we split the train dataset into train and validation, we wanted to see the feature importance using overall training dataset. Hence, built a GBR model on entire training dataset"
   ]
  },
  {
   "cell_type": "code",
   "execution_count": 34,
   "metadata": {},
   "outputs": [
    {
     "name": "stdout",
     "output_type": "stream",
     "text": [
      "[ 0  1  3  4  9 12 13  2  7 10  8  5 11  6]\n"
     ]
    }
   ],
   "source": [
    "features_list = b_train.columns.values\n",
    "feature_importance = GBR.feature_importances_\n",
    "sorted_idx = np.argsort(feature_importance)\n",
    "\n",
    "print(sorted_idx)"
   ]
  },
  {
   "cell_type": "code",
   "execution_count": 35,
   "metadata": {},
   "outputs": [
    {
     "data": {
      "image/png": "[encoded data removed]",
      "text/plain": [
       "<matplotlib.figure.Figure at 0x11acad5f8>"
      ]
     },
     "metadata": {},
     "output_type": "display_data"
    }
   ],
   "source": [
    "plt.figure(figsize=(15, 15))\n",
    "plt.barh(range(len(sorted_idx)), feature_importance[sorted_idx], align='center')\n",
    "plt.yticks(range(len(sorted_idx)), features_list[sorted_idx])\n",
    "plt.xlabel('Importance')\n",
    "plt.title('Feature importances')\n",
    "plt.draw()\n",
    "plt.show()"
   ]
  },
  {
   "cell_type": "code",
   "execution_count": 34,
   "metadata": {},
   "outputs": [
    {
     "data": {
      "text/plain": [
       "0.666686881068223"
      ]
     },
     "execution_count": 34,
     "metadata": {},
     "output_type": "execute_result"
    }
   ],
   "source": [
    "from sklearn.model_selection import cross_val_score\n",
    "from sklearn.ensemble import GradientBoostingRegressor\n",
    "\n",
    "GBR = GradientBoostingRegressor(n_estimators=50, learning_rate=0.01, max_depth=5, random_state=0, loss='ls')\n",
    "score = cross_val_score(GBR, b_train, b_label, cv = 10, scoring = 'neg_mean_squared_log_error')\n",
    "np.mean(np.sqrt(score * -1))"
   ]
  },
  {
   "cell_type": "markdown",
   "metadata": {},
   "source": [
    "# Now, I am choosing different set of features to build another model"
   ]
  },
  {
   "cell_type": "code",
   "execution_count": 40,
   "metadata": {},
   "outputs": [],
   "source": [
    "from sklearn.preprocessing import LabelEncoder\n",
    "\n",
    "train = pd.read_csv('train.csv')\n",
    "test = pd.read_csv('test.csv')\n",
    "\n",
    "## dates\n",
    "train['pickup_datetime'] = pd.to_datetime(train['pickup_datetime'])\n",
    "test['pickup_datetime'] = pd.to_datetime(test['pickup_datetime'])"
   ]
  },
  {
   "cell_type": "code",
   "execution_count": 41,
   "metadata": {},
   "outputs": [],
   "source": [
    "## transform character to numeric\n",
    "le = LabelEncoder()\n",
    "le.fit(train['store_and_fwd_flag'])\n",
    "train['store_and_fwd_flag'] = le.transform(train['store_and_fwd_flag'])\n",
    "test['store_and_fwd_flag'] = le.transform(test['store_and_fwd_flag'])"
   ]
  },
  {
   "cell_type": "code",
   "execution_count": 42,
   "metadata": {},
   "outputs": [],
   "source": [
    "## date features\n",
    "train['month'] = train['pickup_datetime'].dt.month\n",
    "train['day'] = train['pickup_datetime'].dt.day\n",
    "train['weekday'] = train['pickup_datetime'].dt.weekday\n",
    "train['hour'] = train['pickup_datetime'].dt.hour\n",
    "train['minute'] = train['pickup_datetime'].dt.minute\n",
    "\n",
    "test['month'] = test['pickup_datetime'].dt.month\n",
    "test['day'] = test['pickup_datetime'].dt.day\n",
    "test['weekday'] = test['pickup_datetime'].dt.weekday\n",
    "test['hour'] = test['pickup_datetime'].dt.hour\n",
    "test['minute'] = test['pickup_datetime'].dt.minute"
   ]
  },
  {
   "cell_type": "code",
   "execution_count": 43,
   "metadata": {},
   "outputs": [],
   "source": [
    "train['dist_long'] = train['pickup_longitude'] - train['dropoff_longitude']\n",
    "test['dist_long'] = test['pickup_longitude'] - test['dropoff_longitude']\n",
    "\n",
    "train['dist_lat'] = train['pickup_latitude'] - train['dropoff_latitude']\n",
    "test['dist_lat'] = test['pickup_latitude'] - test['dropoff_latitude']\n",
    "\n",
    "train['dist'] = np.sqrt(np.square(train['dist_long']) + np.square(train['dist_lat']))\n",
    "test['dist'] = np.sqrt(np.square(test['dist_long']) + np.square(test['dist_lat']))"
   ]
  },
  {
   "cell_type": "code",
   "execution_count": 44,
   "metadata": {},
   "outputs": [],
   "source": [
    "## train/test features, y, id\n",
    "xtrain = train.drop(['id', 'pickup_datetime', 'dropoff_datetime', 'trip_duration'], axis = 1).as_matrix()\n",
    "xtest = test.drop(['id', 'pickup_datetime', ], axis = 1).as_matrix()\n",
    "ytrain = train['trip_duration'].values\n",
    "id_train = train['id'].values\n",
    "id_test = test['id'].values\n",
    "#del(train, test)"
   ]
  },
  {
   "cell_type": "code",
   "execution_count": 45,
   "metadata": {},
   "outputs": [
    {
     "data": {
      "text/plain": [
       "Index(['id', 'vendor_id', 'pickup_datetime', 'dropoff_datetime',\n",
       "       'passenger_count', 'pickup_longitude', 'pickup_latitude',\n",
       "       'dropoff_longitude', 'dropoff_latitude', 'store_and_fwd_flag',\n",
       "       'trip_duration', 'month', 'day', 'weekday', 'hour', 'minute',\n",
       "       'dist_long', 'dist_lat', 'dist'],\n",
       "      dtype='object')"
      ]
     },
     "execution_count": 45,
     "metadata": {},
     "output_type": "execute_result"
    }
   ],
   "source": [
    "train.columns"
   ]
  },
  {
   "cell_type": "code",
   "execution_count": 56,
   "metadata": {},
   "outputs": [],
   "source": [
    "from sklearn.model_selection import train_test_split\n",
    "X_train,X_test,y_train,y_test = train_test_split(xtrain,ytrain,test_size=0.2,random_state=0)"
   ]
  },
  {
   "cell_type": "code",
   "execution_count": 57,
   "metadata": {},
   "outputs": [],
   "source": [
    "## xgb parameters\n",
    "params = {\n",
    "    'booster':            'gbtree',\n",
    "    'objective':          'reg:linear',\n",
    "    'learning_rate':      0.1,\n",
    "    'max_depth':          14,\n",
    "    'subsample':          0.8,\n",
    "    'colsample_bytree':   0.7,\n",
    "    'colsample_bylevel':  0.7,\n",
    "    'silent':             1\n",
    "}"
   ]
  },
  {
   "cell_type": "code",
   "execution_count": 58,
   "metadata": {},
   "outputs": [],
   "source": [
    "## number of rounds\n",
    "nrounds = 100"
   ]
  },
  {
   "cell_type": "code",
   "execution_count": 61,
   "metadata": {},
   "outputs": [],
   "source": [
    "import xgboost as xgboost\n",
    "#gbm = xgboost.XGBRegressor()"
   ]
  },
  {
   "cell_type": "code",
   "execution_count": 71,
   "metadata": {},
   "outputs": [
    {
     "name": "stdout",
     "output_type": "stream",
     "text": [
      "Train model...\n"
     ]
    }
   ],
   "source": [
    "print('Train model...')\n",
    "dtrain = xgboost.DMatrix(X_train, np.log(y_train+1))\n",
    "gbm = xgboost.train(params,\n",
    "                dtrain,\n",
    "                num_boost_round = nrounds)"
   ]
  },
  {
   "cell_type": "code",
   "execution_count": 72,
   "metadata": {},
   "outputs": [],
   "source": [
    "pred_test_split = np.exp(gbm.predict(xgboost.DMatrix(X_test))) - 1"
   ]
  },
  {
   "cell_type": "code",
   "execution_count": 80,
   "metadata": {},
   "outputs": [
    {
     "name": "stdout",
     "output_type": "stream",
     "text": [
      "Root mean square error for test dataset: 7217.4\n"
     ]
    }
   ],
   "source": [
    "print(\"Root mean square error for test dataset: {}\".format(np.round(np.sqrt(mean_squared_error(y_test, pred_test_split)), 2)))"
   ]
  },
  {
   "cell_type": "code",
   "execution_count": 74,
   "metadata": {},
   "outputs": [
    {
     "name": "stdout",
     "output_type": "stream",
     "text": [
      "0.3831912302352567\n"
     ]
    }
   ],
   "source": [
    "import math\n",
    "#def rmsle(y, y_pred):\n",
    "#assert len(y) == len(y_pred)\n",
    "terms_to_sum = [(math.log(pred_test_split[i] + 1) - math.log(y_test[i] + 1)) ** 2.0 for i,pred in enumerate(pred_test_split)]\n",
    "print ((sum(terms_to_sum) * (1.0/len(y_test))) ** 0.5)"
   ]
  },
  {
   "cell_type": "markdown",
   "metadata": {},
   "source": [
    "# We got a RMSLE of 0.38 which is a huge improvement over other models. Hence, we will fit our model using these features and predict the value for test dataset"
   ]
  },
  {
   "cell_type": "code",
   "execution_count": 68,
   "metadata": {},
   "outputs": [
    {
     "name": "stdout",
     "output_type": "stream",
     "text": [
      "Train model...\n"
     ]
    }
   ],
   "source": [
    "## train model on overall test dataset\n",
    "print('Train model...')\n",
    "dtrain = xgboost.DMatrix(xtrain, np.log(ytrain+1))\n",
    "gbm = xgboost.train(params,\n",
    "                dtrain,\n",
    "                num_boost_round = nrounds)"
   ]
  },
  {
   "cell_type": "code",
   "execution_count": 69,
   "metadata": {},
   "outputs": [],
   "source": [
    "## test predictions\n",
    "pred_test = np.exp(gbm.predict(xgboost.DMatrix(xtest))) - 1"
   ]
  },
  {
   "cell_type": "code",
   "execution_count": 70,
   "metadata": {},
   "outputs": [],
   "source": [
    "df = pd.DataFrame({'id': id_test, 'trip_duration': pred_test}) \n",
    "df = df.set_index('id')\n",
    "df.to_csv('mayanka_jha.csv', index = True)"
   ]
  }
 ],
 "metadata": {
  "kernelspec": {
   "display_name": "Python 3",
   "language": "python",
   "name": "python3"
  },
  "language_info": {
   "codemirror_mode": {
    "name": "ipython",
    "version": 3
   },
   "file_extension": ".py",
   "mimetype": "text/x-python",
   "name": "python",
   "nbconvert_exporter": "python",
   "pygments_lexer": "ipython3",
   "version": "3.6.4"
  }
 },
 "nbformat": 4,
 "nbformat_minor": 2
}
